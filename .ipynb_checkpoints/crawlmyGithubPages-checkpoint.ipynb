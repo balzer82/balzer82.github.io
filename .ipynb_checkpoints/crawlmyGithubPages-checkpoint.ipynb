{
 "metadata": {
  "name": ""
 },
 "nbformat": 3,
 "nbformat_minor": 0,
 "worksheets": [
  {
   "cells": [
    {
     "cell_type": "code",
     "collapsed": false,
     "input": [
      "import requests\n",
      "import json\n",
      "import os"
     ],
     "language": "python",
     "metadata": {},
     "outputs": [],
     "prompt_number": 34
    },
    {
     "cell_type": "code",
     "collapsed": false,
     "input": [
      "username = 'balzer82'"
     ],
     "language": "python",
     "metadata": {},
     "outputs": [],
     "prompt_number": 35
    },
    {
     "cell_type": "code",
     "collapsed": false,
     "input": [
      "r = requests.get('https://api.github.com/users/%s/repos' % username)"
     ],
     "language": "python",
     "metadata": {},
     "outputs": [],
     "prompt_number": 36
    },
    {
     "cell_type": "code",
     "collapsed": false,
     "input": [
      "repos=[]\n",
      "desc=[]\n",
      "url=[]\n",
      "for i in range(1,len(r.json())):\n",
      "    repos.append(r.json()[i]['name'])\n",
      "    desc.append(r.json()[i]['description'])\n",
      "    url.append(r.json()[i]['html_url'])\n",
      "    \n",
      "    # Check if there is a Github Page\n",
      "    # If yes, take this url instead of the Repository URL\n",
      "    b = requests.get('https://api.github.com/repos/%s/%s/branches' % (username, repos[-1]))\n",
      "    for j in range(len(b.json())):\n",
      "        if b.json()[j]['name']=='gh-pages':\n",
      "            url[-1] = 'http://balzer82.github.io/%s' % repos[-1]"
     ],
     "language": "python",
     "metadata": {},
     "outputs": [],
     "prompt_number": 37
    },
    {
     "cell_type": "code",
     "collapsed": false,
     "input": [],
     "language": "python",
     "metadata": {},
     "outputs": [],
     "prompt_number": 37
    },
    {
     "cell_type": "heading",
     "level": 2,
     "metadata": {},
     "source": [
      "Write index.html"
     ]
    },
    {
     "cell_type": "code",
     "collapsed": false,
     "input": [
      "f=open('index.html','w')\n",
      "\n",
      "prestring=\"\"\"\n",
      "<html>\n",
      "<head>\n",
      "<link rel=\"stylesheet\" href=\"style.css\">\n",
      "</head>\n",
      "<body>\n",
      "\n",
      "<h1>balzer82.github.io</h1>\n",
      "    <div>\n",
      "    <h2>Repositories</h2>\n",
      "        <ul>\n",
      "\"\"\"\n",
      "f.write(prestring)\n",
      "\n",
      "for i in range(len(repos)):\n",
      "    f.write('\\t\\t\\t\\t<li><img src=\"%s\">\\n' % 'github.png')\n",
      "    f.write('\\t\\t\\t\\t<h3><a href=\\'%s\\'>%s</a></h3>\\n' % (url[i], repos[i]))\n",
      "    f.write('\\t\\t\\t\\t<p>%s</p></li>\\n' % desc[i].encode('utf-8'))\n",
      "\n",
      "    \n",
      "    \n",
      "poststring =\"\"\"\n",
      "        </ul>\n",
      "    </div>\n",
      "    <p>Background Image CC BY-NC-ND 2.0 von Flickr mr. Wood</p>\n",
      "    <p>Github Logo by Github User JD Pirtle</p>\n",
      "</body>\n",
      "</html>\n",
      "\"\"\"\n",
      "f.write(poststring)\n",
      "f.close()"
     ],
     "language": "python",
     "metadata": {},
     "outputs": [],
     "prompt_number": 38
    },
    {
     "cell_type": "code",
     "collapsed": false,
     "input": [
      "print('Done.')"
     ],
     "language": "python",
     "metadata": {},
     "outputs": [],
     "prompt_number": 38
    }
   ],
   "metadata": {}
  }
 ]
}