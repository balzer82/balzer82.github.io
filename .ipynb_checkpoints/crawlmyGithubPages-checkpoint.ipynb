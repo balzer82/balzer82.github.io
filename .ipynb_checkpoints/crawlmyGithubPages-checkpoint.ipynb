{
 "metadata": {
  "name": "",
  "signature": "sha256:ebf3b17cb6b2c3b8bb7b11ad73331dad34188df315e5bc448705a635351160a9"
 },
 "nbformat": 3,
 "nbformat_minor": 0,
 "worksheets": [
  {
   "cells": [
    {
     "cell_type": "heading",
     "level": 1,
     "metadata": {},
     "source": [
      "Automatically Create an Overview-Website out of 'User' Github Repos"
     ]
    },
    {
     "cell_type": "code",
     "collapsed": false,
     "input": [
      "import requests\n",
      "import json\n",
      "import os"
     ],
     "language": "python",
     "metadata": {},
     "outputs": [],
     "prompt_number": 1
    },
    {
     "cell_type": "code",
     "collapsed": false,
     "input": [
      "username = 'balzer82'"
     ],
     "language": "python",
     "metadata": {},
     "outputs": [],
     "prompt_number": 2
    },
    {
     "cell_type": "code",
     "collapsed": false,
     "input": [
      "r = requests.get('https://api.github.com/users/%s/repos' % username)"
     ],
     "language": "python",
     "metadata": {},
     "outputs": [],
     "prompt_number": 3
    },
    {
     "cell_type": "code",
     "collapsed": false,
     "input": [
      "repos=[]\n",
      "desc=[]\n",
      "url=[]\n",
      "for i in range(1,len(r.json())):\n",
      "    repos.append(r.json()[i]['name'])\n",
      "    desc.append(r.json()[i]['description'])\n",
      "    url.append(r.json()[i]['html_url'])\n",
      "    \n",
      "    # Check if there is a Github Page\n",
      "    # If yes, take this url instead of the Repository URL\n",
      "    b = requests.get('https://api.github.com/repos/%s/%s/branches' % (username, repos[-1]))\n",
      "    for j in range(len(b.json())):\n",
      "        if b.json()[j]['name']=='gh-pages':\n",
      "            url[-1] = 'http://balzer82.github.io/%s' % repos[-1]"
     ],
     "language": "python",
     "metadata": {},
     "outputs": [],
     "prompt_number": 4
    },
    {
     "cell_type": "code",
     "collapsed": false,
     "input": [],
     "language": "python",
     "metadata": {},
     "outputs": [],
     "prompt_number": 4
    },
    {
     "cell_type": "heading",
     "level": 2,
     "metadata": {},
     "source": [
      "Write index.html"
     ]
    },
    {
     "cell_type": "code",
     "collapsed": false,
     "input": [
      "f=open('index.html','w')\n",
      "\n",
      "prestring=\"\"\"\n",
      "<html>\n",
      "<head>\n",
      "<link rel=\"stylesheet\" href=\"style.css\">\n",
      "\n",
      "<script>\n",
      "  (function(i,s,o,g,r,a,m){i['GoogleAnalyticsObject']=r;i[r]=i[r]||function(){\n",
      "  (i[r].q=i[r].q||[]).push(arguments)},i[r].l=1*new Date();a=s.createElement(o),\n",
      "  m=s.getElementsByTagName(o)[0];a.async=1;a.src=g;m.parentNode.insertBefore(a,m)\n",
      "  })(window,document,'script','//www.google-analytics.com/analytics.js','ga');\n",
      "\n",
      "  ga('create', 'UA-46744695-1', 'auto');\n",
      "  ga('send', 'pageview');\n",
      "\n",
      "</script>\n",
      "\n",
      "</head>\n",
      "<body>\n",
      "\n",
      "<h1>balzer82.github.io</h1>\n",
      "    <div>\n",
      "    <h2>Repositories</h2>\n",
      "        <ul>\n",
      "\"\"\"\n",
      "f.write(prestring)\n",
      "\n",
      "for i in range(len(repos)):\n",
      "    f.write('\\t\\t\\t\\t<li><img src=\"%s\">\\n' % 'github.png')\n",
      "    f.write('\\t\\t\\t\\t<h3><a href=\\'%s\\'>%s</a></h3>\\n' % (url[i], repos[i]))\n",
      "    f.write('\\t\\t\\t\\t<p>%s</p></li>\\n' % desc[i].encode('utf-8'))\n",
      "\n",
      "    \n",
      "    \n",
      "poststring =\"\"\"\n",
      "        </ul>\n",
      "    </div>\n",
      "    <p>Background Image CC BY-NC-ND 2.0 von Flickr mr. Wood</p>\n",
      "    <p>Github Logo by Github User JD Pirtle</p>\n",
      "</body>\n",
      "</html>\n",
      "\"\"\"\n",
      "f.write(poststring)\n",
      "f.close()"
     ],
     "language": "python",
     "metadata": {},
     "outputs": [],
     "prompt_number": 5
    },
    {
     "cell_type": "code",
     "collapsed": false,
     "input": [
      "print('Done.')"
     ],
     "language": "python",
     "metadata": {},
     "outputs": [
      {
       "output_type": "stream",
       "stream": "stdout",
       "text": [
        "Done.\n"
       ]
      }
     ],
     "prompt_number": 6
    }
   ],
   "metadata": {}
  }
 ]
}